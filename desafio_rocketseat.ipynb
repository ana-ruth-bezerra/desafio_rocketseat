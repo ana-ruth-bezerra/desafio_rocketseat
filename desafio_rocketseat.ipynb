{
 "cells": [],
 "metadata": {
  "kernelspec": {
   "display_name": "desafio_rocketseat-VVZs146C",
   "language": "python",
   "name": "python3"
  },
  "language_info": {
   "name": "python",
   "version": "3.11.0"
  }
 },
 "nbformat": 4,
 "nbformat_minor": 5
}
